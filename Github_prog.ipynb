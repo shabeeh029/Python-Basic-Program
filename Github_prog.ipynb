{
  "nbformat": 4,
  "nbformat_minor": 0,
  "metadata": {
    "colab": {
      "name": "Github prog.ipynb",
      "provenance": []
    },
    "kernelspec": {
      "name": "python3",
      "display_name": "Python 3"
    },
    "language_info": {
      "name": "python"
    }
  },
  "cells": [
    {
      "cell_type": "markdown",
      "metadata": {
        "id": "3jKS1SdNtbFC"
      },
      "source": [
        "# Python Program to check Palindrome-(using slicing)"
      ]
    },
    {
      "cell_type": "code",
      "metadata": {
        "colab": {
          "base_uri": "https://localhost:8080/"
        },
        "id": "55-bTvzrt2bP",
        "outputId": "047bef00-2851-4d25-d774-535ab9efb1a7"
      },
      "source": [
        "x= input(\"Enter the number or string-\")\n",
        "#Using slicing reverse\n",
        "reverse_x= x[::-1]\n",
        "if x == reverse_x:\n",
        "    print('yes your number or string is Palindrome')\n",
        "else:\n",
        "    print('no your number or string is not Palindrome')"
      ],
      "execution_count": null,
      "outputs": [
        {
          "output_type": "stream",
          "text": [
            "Enter the number or string-level\n",
            "yes your number or string is Palindrome\n"
          ],
          "name": "stdout"
        }
      ]
    },
    {
      "cell_type": "markdown",
      "metadata": {
        "id": "XWEjruogwbjN"
      },
      "source": [
        "# Shutdown,logoff,restart of your computer 2 line of code-"
      ]
    },
    {
      "cell_type": "code",
      "metadata": {
        "id": "aRdWdx5Dxhia"
      },
      "source": [
        "#first you open your command shell and type shutdown then see your argument like(/s,/l/r)\n",
        "import os; #import your os library files\n",
        "os.system('shutdown /s /t 0')  # /s is shutdown, /l is logoff , /r is restart argument (/t 0 is time how much you want)\n",
        "                              "
      ],
      "execution_count": null,
      "outputs": []
    },
    {
      "cell_type": "markdown",
      "metadata": {
        "id": "sp04MqXxzBlU"
      },
      "source": [
        "# Calendar Program-1"
      ]
    },
    {
      "cell_type": "code",
      "metadata": {
        "colab": {
          "base_uri": "https://localhost:8080/"
        },
        "id": "qPcq4V44zrIQ",
        "outputId": "d4f38e68-e457-410d-ee99-7878a66d9b6c"
      },
      "source": [
        "import calendar\n",
        "Y=int(input(\"Enter your year-\"))\n",
        "M=int(input(\"Enter your month-\"))\n",
        "mycal=calendar.month(Y,M)\n",
        "print(mycal)"
      ],
      "execution_count": null,
      "outputs": [
        {
          "output_type": "stream",
          "text": [
            "Enter your year-2021\n",
            "Enter your month-8\n",
            "    August 2021\n",
            "Mo Tu We Th Fr Sa Su\n",
            "                   1\n",
            " 2  3  4  5  6  7  8\n",
            " 9 10 11 12 13 14 15\n",
            "16 17 18 19 20 21 22\n",
            "23 24 25 26 27 28 29\n",
            "30 31\n",
            "\n"
          ],
          "name": "stdout"
        }
      ]
    },
    {
      "cell_type": "markdown",
      "metadata": {
        "id": "JFc7nfsw1XDR"
      },
      "source": [
        "# Calendar Program-2"
      ]
    },
    {
      "cell_type": "code",
      "metadata": {
        "colab": {
          "base_uri": "https://localhost:8080/"
        },
        "id": "Yr6quZbh1Zgk",
        "outputId": "caa36b01-755d-4465-b626-59a352f75c8e"
      },
      "source": [
        "#if you want see output in sunday then try this method\n",
        "import calendar\n",
        "Y=int(input(\"Enter your year-\"))\n",
        "M=int(input(\"Enter your month-\"))\n",
        "calendar.setfirstweekday(calendar.SUNDAY)\n",
        "mycal=calendar.month(Y,M)\n",
        "print(mycal)\n"
      ],
      "execution_count": null,
      "outputs": [
        {
          "output_type": "stream",
          "text": [
            "Enter your year-2021\n",
            "Enter your month-8\n",
            "    August 2021\n",
            "Su Mo Tu We Th Fr Sa\n",
            " 1  2  3  4  5  6  7\n",
            " 8  9 10 11 12 13 14\n",
            "15 16 17 18 19 20 21\n",
            "22 23 24 25 26 27 28\n",
            "29 30 31\n",
            "\n"
          ],
          "name": "stdout"
        }
      ]
    },
    {
      "cell_type": "markdown",
      "metadata": {
        "id": "JV81ND0l2Q4m"
      },
      "source": [
        "# Calendar Program-3"
      ]
    },
    {
      "cell_type": "code",
      "metadata": {
        "colab": {
          "base_uri": "https://localhost:8080/"
        },
        "id": "qt87TDr-2SlU",
        "outputId": "2cd618d8-b60d-495b-a912-ff1d770cd4e9"
      },
      "source": [
        "#if you want see output in only year \n",
        "import calendar\n",
        "Y=int(input(\"Enter your year-\"))\n",
        "#M=int(input(\"Enter your month-\"))\n",
        "calendar.setfirstweekday(calendar.SUNDAY)\n",
        "mycal=calendar.calendar(Y)\n",
        "print(mycal)"
      ],
      "execution_count": null,
      "outputs": [
        {
          "output_type": "stream",
          "text": [
            "Enter your year-2022\n",
            "                                  2022\n",
            "\n",
            "      January                   February                   March\n",
            "Su Mo Tu We Th Fr Sa      Su Mo Tu We Th Fr Sa      Su Mo Tu We Th Fr Sa\n",
            "                   1             1  2  3  4  5             1  2  3  4  5\n",
            " 2  3  4  5  6  7  8       6  7  8  9 10 11 12       6  7  8  9 10 11 12\n",
            " 9 10 11 12 13 14 15      13 14 15 16 17 18 19      13 14 15 16 17 18 19\n",
            "16 17 18 19 20 21 22      20 21 22 23 24 25 26      20 21 22 23 24 25 26\n",
            "23 24 25 26 27 28 29      27 28                     27 28 29 30 31\n",
            "30 31\n",
            "\n",
            "       April                      May                       June\n",
            "Su Mo Tu We Th Fr Sa      Su Mo Tu We Th Fr Sa      Su Mo Tu We Th Fr Sa\n",
            "                1  2       1  2  3  4  5  6  7                1  2  3  4\n",
            " 3  4  5  6  7  8  9       8  9 10 11 12 13 14       5  6  7  8  9 10 11\n",
            "10 11 12 13 14 15 16      15 16 17 18 19 20 21      12 13 14 15 16 17 18\n",
            "17 18 19 20 21 22 23      22 23 24 25 26 27 28      19 20 21 22 23 24 25\n",
            "24 25 26 27 28 29 30      29 30 31                  26 27 28 29 30\n",
            "\n",
            "        July                     August                  September\n",
            "Su Mo Tu We Th Fr Sa      Su Mo Tu We Th Fr Sa      Su Mo Tu We Th Fr Sa\n",
            "                1  2          1  2  3  4  5  6                   1  2  3\n",
            " 3  4  5  6  7  8  9       7  8  9 10 11 12 13       4  5  6  7  8  9 10\n",
            "10 11 12 13 14 15 16      14 15 16 17 18 19 20      11 12 13 14 15 16 17\n",
            "17 18 19 20 21 22 23      21 22 23 24 25 26 27      18 19 20 21 22 23 24\n",
            "24 25 26 27 28 29 30      28 29 30 31               25 26 27 28 29 30\n",
            "31\n",
            "\n",
            "      October                   November                  December\n",
            "Su Mo Tu We Th Fr Sa      Su Mo Tu We Th Fr Sa      Su Mo Tu We Th Fr Sa\n",
            "                   1             1  2  3  4  5                   1  2  3\n",
            " 2  3  4  5  6  7  8       6  7  8  9 10 11 12       4  5  6  7  8  9 10\n",
            " 9 10 11 12 13 14 15      13 14 15 16 17 18 19      11 12 13 14 15 16 17\n",
            "16 17 18 19 20 21 22      20 21 22 23 24 25 26      18 19 20 21 22 23 24\n",
            "23 24 25 26 27 28 29      27 28 29 30               25 26 27 28 29 30 31\n",
            "30 31\n",
            "\n"
          ],
          "name": "stdout"
        }
      ]
    },
    {
      "cell_type": "markdown",
      "metadata": {
        "id": "XQS224L13tls"
      },
      "source": [
        "#Check Year is Leap or not Using Calendar-"
      ]
    },
    {
      "cell_type": "code",
      "metadata": {
        "colab": {
          "base_uri": "https://localhost:8080/"
        },
        "id": "I6MenkYn4Ac5",
        "outputId": "d12b77b9-b938-48cc-f5e4-c91754e7b686"
      },
      "source": [
        "import calendar\n",
        "Y=int(input(\"Enter your year to check leap year\"))\n",
        "result=calendar.isleap(Y)\n",
        "if result:\n",
        "    print(f'{Y} is a leap year')\n",
        "else:\n",
        "    print(f'{Y} is not a leap year')"
      ],
      "execution_count": null,
      "outputs": [
        {
          "output_type": "stream",
          "text": [
            "Enter your year to check leap year2004\n",
            "2004 is a leap year\n"
          ],
          "name": "stdout"
        }
      ]
    },
    {
      "cell_type": "markdown",
      "metadata": {
        "id": "26jVjOBo64EK"
      },
      "source": [
        "# Reverse Number or Name Using string Slicing method-One line code"
      ]
    },
    {
      "cell_type": "code",
      "metadata": {
        "colab": {
          "base_uri": "https://localhost:8080/"
        },
        "id": "SI98AdTo7ZyL",
        "outputId": "f43e5ce5-bbf5-4f2d-a5a7-1fbd76a993f6"
      },
      "source": [
        "print(input(\"Enter the number or string-\")[::-1])"
      ],
      "execution_count": null,
      "outputs": [
        {
          "output_type": "stream",
          "text": [
            "Enter the number or string-123\n",
            "321\n"
          ],
          "name": "stdout"
        }
      ]
    }
  ]
}